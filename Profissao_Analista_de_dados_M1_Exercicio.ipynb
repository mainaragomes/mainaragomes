{
  "nbformat": 4,
  "nbformat_minor": 0,
  "metadata": {
    "colab": {
      "provenance": [],
      "toc_visible": true
    },
    "kernelspec": {
      "name": "python3",
      "display_name": "Python 3"
    }
  },
  "cells": [
    {
      "cell_type": "markdown",
      "metadata": {
        "id": "KJqp9AANOCtf"
      },
      "source": [
        "<img src=\"https://raw.githubusercontent.com/andre-marcos-perez/ebac-course-utils/main/media/logo/newebac_logo_black_half.png\" alt=\"ebac-logo\">\n",
        "\n",
        "---\n",
        "\n",
        "# **Módulo** | Python: Variáveis & Tipos de Dados\n",
        "Caderno de **Exercícios**<br>\n",
        "Professor [André Perez](https://www.linkedin.com/in/andremarcosperez/)\n",
        "\n",
        "---"
      ]
    },
    {
      "cell_type": "markdown",
      "metadata": {
        "id": "d9jDtUbDOE1-"
      },
      "source": [
        "# **Tópicos**\n",
        "\n",
        "<ol type=\"1\">\n",
        "  <li>Introdução ao Google Colab;</li>\n",
        "  <li>Variáveis;</li>\n",
        "  <li>Números;</li>\n",
        "  <li><i>Strings;</i></li>\n",
        "  <li>Boleanos.</li>\n",
        "</ol>"
      ]
    },
    {
      "cell_type": "markdown",
      "metadata": {
        "id": "SmoHgt-lwkpD"
      },
      "source": [
        "---"
      ]
    },
    {
      "cell_type": "markdown",
      "metadata": {
        "id": "GABI6OW8OfQ2"
      },
      "source": [
        "# **Exercícios**"
      ]
    },
    {
      "cell_type": "markdown",
      "metadata": {
        "id": "muD1vxozykSC"
      },
      "source": [
        "## 1\\. Google Colab"
      ]
    },
    {
      "cell_type": "markdown",
      "metadata": {
        "id": "ahrFfCuBxJKs"
      },
      "source": [
        "Crie uma célula de código que escreva o texto \"Olá mundo!\", utilize o comando `print`."
      ]
    },
    {
      "cell_type": "markdown",
      "metadata": {
        "id": "KI9zQRT2xa7m"
      },
      "source": [
        "Crie uma célua de texto e adicione uma imagem."
      ]
    },
    {
      "cell_type": "markdown",
      "metadata": {
        "id": "zMN1Q3jdwoJm"
      },
      "source": [
        "---"
      ]
    },
    {
      "cell_type": "markdown",
      "metadata": {
        "id": "tFYOPLS3xiwe"
      },
      "source": [
        "## 2\\. Números"
      ]
    },
    {
      "cell_type": "markdown",
      "metadata": {
        "id": "O2G9gt7tx2c-"
      },
      "source": [
        "Preencha as células de código para preencher os valores de (A), (B) e (C) na tabela de ticket médio abaixo:\n",
        "\n",
        "<br>\n",
        "\n",
        "| Dia   | Valor Total Vendas | Qtd Total Vendas | Ticket Medio |\n",
        "|-------|--------------------|------------------|--------------|\n",
        "| 19/01 | (A)                | 3                | 320.52       |\n",
        "| 20/01 | 834.47             | (B)              | 119.21       |\n",
        "| 23/01 | 15378.12           | 5                | (C)          |"
      ]
    },
    {
      "cell_type": "code",
      "metadata": {
        "id": "nsrKH9EizNRD",
        "colab": {
          "base_uri": "https://localhost:8080/"
        },
        "outputId": "5ac2a1dd-952e-4617-e616-c8ce61088548"
      },
      "source": [
        "valor_total_vendas = 15378.12\n",
        "qtd_total_vendas = 5\n",
        "ticket_medio = valor_total_vendas / qtd_total_vendas\n",
        "\n",
        "print(ticket_medio)"
      ],
      "execution_count": 1,
      "outputs": [
        {
          "output_type": "stream",
          "name": "stdout",
          "text": [
            "3075.6240000000003\n"
          ]
        }
      ]
    },
    {
      "cell_type": "code",
      "source": [
        "qtde_total_vendas = 3\n",
        "ticket_medio = 320.52\n",
        "valor_total_vendas = qtde_total_vendas * ticket_medio\n",
        "\n",
        "print(valor_total_vendas)"
      ],
      "metadata": {
        "colab": {
          "base_uri": "https://localhost:8080/"
        },
        "id": "BdT9hL8ntqHG",
        "outputId": "438ef776-5b65-41ad-e1fd-d21f2b855aa3"
      },
      "execution_count": 2,
      "outputs": [
        {
          "output_type": "stream",
          "name": "stdout",
          "text": [
            "961.56\n"
          ]
        }
      ]
    },
    {
      "cell_type": "code",
      "source": [
        "valor_total_vendas = 834.47\n",
        "ticket_medio = 119.21\n",
        "qtde_vendas = valor_total_vendas / ticket_medio\n",
        "\n",
        "print(qtde_vendas)"
      ],
      "metadata": {
        "colab": {
          "base_uri": "https://localhost:8080/"
        },
        "id": "479UA4o-txk9",
        "outputId": "6ed76a88-2e47-4e28-f7ba-3c33d2646db0"
      },
      "execution_count": 3,
      "outputs": [
        {
          "output_type": "stream",
          "name": "stdout",
          "text": [
            "7.000000000000001\n"
          ]
        }
      ]
    },
    {
      "cell_type": "markdown",
      "metadata": {
        "id": "3eoP-Vj9yzh8"
      },
      "source": [
        "---"
      ]
    },
    {
      "cell_type": "markdown",
      "metadata": {
        "id": "yUJ6kdony6Pr"
      },
      "source": [
        "## 3\\. Strings"
      ]
    },
    {
      "cell_type": "markdown",
      "metadata": {
        "id": "KDuZpg-5zCvO"
      },
      "source": [
        "Aplique três métodos distintos na *string* abaixo, você pode conferir alguns métodos neste [link](https://www.w3schools.com/python/python_ref_string.asp):"
      ]
    },
    {
      "cell_type": "code",
      "metadata": {
        "id": "k9zbyf7BzjKj",
        "colab": {
          "base_uri": "https://localhost:8080/",
          "height": 36
        },
        "outputId": "1c933031-49f9-478e-8d8d-d320fe0c8d9a"
      },
      "source": [
        "cancao = 'Roda mundo, roda gigante, roda moinho, roda pião.'\n",
        "\n",
        "cancao.count(cancao)\n",
        "cancao.find(cancao)\n",
        "cancao.upper()"
      ],
      "execution_count": 7,
      "outputs": [
        {
          "output_type": "execute_result",
          "data": {
            "text/plain": [
              "'RODA MUNDO, RODA GIGANTE, RODA MOINHO, RODA PIÃO.'"
            ],
            "application/vnd.google.colaboratory.intrinsic+json": {
              "type": "string"
            }
          },
          "metadata": {},
          "execution_count": 7
        }
      ]
    },
    {
      "cell_type": "markdown",
      "metadata": {
        "id": "guZMHXVq0FnC"
      },
      "source": [
        "Extraia da string abaixo o valor da taxa **selic** na variável `selic` e o valor do **ano** na variavel `ano`. Imprima os valores na tela."
      ]
    },
    {
      "cell_type": "code",
      "metadata": {
        "id": "cbx_P4IQ0agK",
        "colab": {
          "base_uri": "https://localhost:8080/"
        },
        "outputId": "dd23ed6b-179a-470d-d2a6-e23c12e19d84"
      },
      "source": [
        "noticia = 'Selic vai a 2,75% e supera expectativas; é a primeira alta em 6 anos.'\n",
        "\n",
        "selic = noticia[12:17]\n",
        "ano = noticia[62:64]\n",
        "\n",
        "print(selic)\n",
        "print(ano)"
      ],
      "execution_count": 9,
      "outputs": [
        {
          "output_type": "stream",
          "name": "stdout",
          "text": [
            "2,75%\n",
            "6 \n"
          ]
        }
      ]
    },
    {
      "cell_type": "markdown",
      "metadata": {
        "id": "wWzbu-OC0z3L"
      },
      "source": [
        "---"
      ]
    },
    {
      "cell_type": "markdown",
      "metadata": {
        "id": "no8w_Ati01xP"
      },
      "source": [
        "## 4\\. Booleanos"
      ]
    },
    {
      "cell_type": "markdown",
      "metadata": {
        "id": "D_0tC3SC099N"
      },
      "source": [
        "Utilize a tabela da verdade para responder: qual o valor da variável x?"
      ]
    },
    {
      "cell_type": "code",
      "metadata": {
        "id": "XwIEbxf91SpU"
      },
      "source": [
        "a = False\n",
        "b = True\n",
        "\n",
        "x = not a & b"
      ],
      "execution_count": 10,
      "outputs": []
    }
  ]
}